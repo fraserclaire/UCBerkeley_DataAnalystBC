{
 "cells": [
  {
   "cell_type": "code",
   "execution_count": null,
   "id": "184b23d6-3375-440c-bb8a-ee05eef17887",
   "metadata": {},
   "outputs": [],
   "source": [
    "#Module 4 Challenge"
   ]
  }
 ],
 "metadata": {
  "kernelspec": {
   "display_name": "Python 3 (ipykernel)",
   "language": "python",
   "name": "python3"
  },
  "language_info": {
   "codemirror_mode": {
    "name": "ipython",
    "version": 3
   },
   "file_extension": ".py",
   "mimetype": "text/x-python",
   "name": "python",
   "nbconvert_exporter": "python",
   "pygments_lexer": "ipython3",
   "version": "3.10.13"
  }
 },
 "nbformat": 4,
 "nbformat_minor": 5
}
